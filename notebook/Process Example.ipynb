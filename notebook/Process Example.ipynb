{
 "cells": [
  {
   "cell_type": "markdown",
   "metadata": {
    "toc": true
   },
   "source": [
    "<h1>Table of Contents<span class=\"tocSkip\"></span></h1>\n",
    "<div class=\"toc\"><ul class=\"toc-item\"></ul></div>"
   ]
  },
  {
   "cell_type": "code",
   "execution_count": 1,
   "metadata": {
    "ExecuteTime": {
     "end_time": "2019-09-16T18:38:49.900362Z",
     "start_time": "2019-09-16T18:38:49.435539Z"
    }
   },
   "outputs": [],
   "source": [
    "import pandas as pd # 데이터 전처리를 위한 라이브러리\n",
    "import numpy as np # 행렬 처리를 위한 라이브러리"
   ]
  },
  {
   "cell_type": "code",
   "execution_count": 2,
   "metadata": {
    "ExecuteTime": {
     "end_time": "2019-09-16T18:38:49.904327Z",
     "start_time": "2019-09-16T18:38:49.901325Z"
    }
   },
   "outputs": [],
   "source": [
    "# Define Number and Level\n",
    "levels = ['광역시도' ,'시군구' ,'읍면동']\n",
    "level = '광역시도'\n",
    "num = 800 # 제한하는 값이 따로 있는지\n",
    "filename = '19년 7월 인구현황(8월작성)'\n",
    "grouping = True\n",
    "\n",
    "# levels에서 선택된 level은 제외\n",
    "levels.remove(level)"
   ]
  },
  {
   "cell_type": "code",
   "execution_count": 3,
   "metadata": {
    "ExecuteTime": {
     "end_time": "2019-09-16T18:38:54.643618Z",
     "start_time": "2019-09-16T18:38:49.906311Z"
    },
    "hide_input": true
   },
   "outputs": [],
   "source": [
    "# Load Data\n",
    "df = pd.read_excel(\"데이터/{}.xlsx\".format(filename), sheet_name=1)\n",
    "df = df[df.구분==level]\n",
    "df = df.drop(levels, axis=1)"
   ]
  },
  {
   "cell_type": "code",
   "execution_count": 4,
   "metadata": {
    "ExecuteTime": {
     "end_time": "2019-09-16T18:38:54.658953Z",
     "start_time": "2019-09-16T18:38:54.644583Z"
    },
    "scrolled": false
   },
   "outputs": [
    {
     "data": {
      "text/html": [
       "<div>\n",
       "<style scoped>\n",
       "    .dataframe tbody tr th:only-of-type {\n",
       "        vertical-align: middle;\n",
       "    }\n",
       "\n",
       "    .dataframe tbody tr th {\n",
       "        vertical-align: top;\n",
       "    }\n",
       "\n",
       "    .dataframe thead th {\n",
       "        text-align: right;\n",
       "    }\n",
       "</style>\n",
       "<table border=\"1\" class=\"dataframe\">\n",
       "  <thead>\n",
       "    <tr style=\"text-align: right;\">\n",
       "      <th></th>\n",
       "      <th>구분</th>\n",
       "      <th>광역시도</th>\n",
       "      <th>남 19-29세</th>\n",
       "      <th>남 30대</th>\n",
       "      <th>남 40대</th>\n",
       "      <th>남 50대</th>\n",
       "      <th>남 60세 이상</th>\n",
       "      <th>여 19-29세</th>\n",
       "      <th>여 30대</th>\n",
       "      <th>여 40대</th>\n",
       "      <th>여 50대</th>\n",
       "      <th>여 60세이상</th>\n",
       "      <th>남 합계</th>\n",
       "      <th>여 합계</th>\n",
       "      <th>총계</th>\n",
       "    </tr>\n",
       "  </thead>\n",
       "  <tbody>\n",
       "    <tr>\n",
       "      <th>0</th>\n",
       "      <td>광역시도</td>\n",
       "      <td>서울특별시</td>\n",
       "      <td>772628</td>\n",
       "      <td>763229</td>\n",
       "      <td>778853</td>\n",
       "      <td>758124</td>\n",
       "      <td>967381</td>\n",
       "      <td>796778</td>\n",
       "      <td>763233</td>\n",
       "      <td>791426</td>\n",
       "      <td>790462</td>\n",
       "      <td>1170959</td>\n",
       "      <td>4040215</td>\n",
       "      <td>4312858</td>\n",
       "      <td>8353073</td>\n",
       "    </tr>\n",
       "    <tr>\n",
       "      <th>450</th>\n",
       "      <td>광역시도</td>\n",
       "      <td>부산광역시</td>\n",
       "      <td>250679</td>\n",
       "      <td>226701</td>\n",
       "      <td>261279</td>\n",
       "      <td>284872</td>\n",
       "      <td>402061</td>\n",
       "      <td>227315</td>\n",
       "      <td>217102</td>\n",
       "      <td>258866</td>\n",
       "      <td>304155</td>\n",
       "      <td>494673</td>\n",
       "      <td>1425592</td>\n",
       "      <td>1502111</td>\n",
       "      <td>2927703</td>\n",
       "    </tr>\n",
       "    <tr>\n",
       "      <th>673</th>\n",
       "      <td>광역시도</td>\n",
       "      <td>대구광역시</td>\n",
       "      <td>193178</td>\n",
       "      <td>160362</td>\n",
       "      <td>195810</td>\n",
       "      <td>211316</td>\n",
       "      <td>242479</td>\n",
       "      <td>165759</td>\n",
       "      <td>151258</td>\n",
       "      <td>200962</td>\n",
       "      <td>220150</td>\n",
       "      <td>305662</td>\n",
       "      <td>1003145</td>\n",
       "      <td>1043791</td>\n",
       "      <td>2046936</td>\n",
       "    </tr>\n",
       "    <tr>\n",
       "      <th>823</th>\n",
       "      <td>광역시도</td>\n",
       "      <td>인천광역시</td>\n",
       "      <td>232021</td>\n",
       "      <td>219865</td>\n",
       "      <td>250219</td>\n",
       "      <td>259402</td>\n",
       "      <td>265413</td>\n",
       "      <td>212114</td>\n",
       "      <td>206515</td>\n",
       "      <td>240572</td>\n",
       "      <td>258497</td>\n",
       "      <td>314533</td>\n",
       "      <td>1226920</td>\n",
       "      <td>1232231</td>\n",
       "      <td>2459151</td>\n",
       "    </tr>\n",
       "    <tr>\n",
       "      <th>991</th>\n",
       "      <td>광역시도</td>\n",
       "      <td>광주광역시</td>\n",
       "      <td>119834</td>\n",
       "      <td>99414</td>\n",
       "      <td>121881</td>\n",
       "      <td>115456</td>\n",
       "      <td>124248</td>\n",
       "      <td>109205</td>\n",
       "      <td>97011</td>\n",
       "      <td>123592</td>\n",
       "      <td>117854</td>\n",
       "      <td>156606</td>\n",
       "      <td>580833</td>\n",
       "      <td>604268</td>\n",
       "      <td>1185101</td>\n",
       "    </tr>\n",
       "  </tbody>\n",
       "</table>\n",
       "</div>"
      ],
      "text/plain": [
       "       구분   광역시도  남 19-29세   남 30대   남 40대   남 50대  남 60세 이상  여 19-29세  \\\n",
       "0    광역시도  서울특별시    772628  763229  778853  758124    967381    796778   \n",
       "450  광역시도  부산광역시    250679  226701  261279  284872    402061    227315   \n",
       "673  광역시도  대구광역시    193178  160362  195810  211316    242479    165759   \n",
       "823  광역시도  인천광역시    232021  219865  250219  259402    265413    212114   \n",
       "991  광역시도  광주광역시    119834   99414  121881  115456    124248    109205   \n",
       "\n",
       "      여 30대   여 40대   여 50대  여 60세이상     남 합계     여 합계       총계  \n",
       "0    763233  791426  790462  1170959  4040215  4312858  8353073  \n",
       "450  217102  258866  304155   494673  1425592  1502111  2927703  \n",
       "673  151258  200962  220150   305662  1003145  1043791  2046936  \n",
       "823  206515  240572  258497   314533  1226920  1232231  2459151  \n",
       "991   97011  123592  117854   156606   580833   604268  1185101  "
      ]
     },
     "execution_count": 4,
     "metadata": {},
     "output_type": "execute_result"
    }
   ],
   "source": [
    "df.head()"
   ]
  },
  {
   "cell_type": "code",
   "execution_count": 5,
   "metadata": {
    "ExecuteTime": {
     "end_time": "2019-09-16T18:38:54.700841Z",
     "start_time": "2019-09-16T18:38:54.659922Z"
    }
   },
   "outputs": [],
   "source": [
    "if grouping:\n",
    "    # 그룹화 리스트\n",
    "    gp_name_lst = [('경기도','인천광역시'),('대전광역시','세종특별자치시','충청남도','충청북도'),\n",
    "                   ('광주광역시','전라남도','전라북도'),('대구광역시','경상북도'),\n",
    "                   ('부산광역시','울산광역시','경상남도'),('강원도','제주특별자치도')]\n",
    "    # 그룹화할 이름을 반복문으로 처리\n",
    "    for gp_names in gp_name_lst:\n",
    "        # 충청남도와 세종특별자치시만 추출후 합계\n",
    "        new = df[df.광역시도.isin(gp_names)].sum(axis=0)\n",
    "        # 충남/세종 합계 새로운 행으로 추가\n",
    "        df = df.append(new, ignore_index=True)\n",
    "        # 이름 변경\n",
    "        df.iloc[-1,0] = '광역시도'\n",
    "        df.iloc[-1,1] = '/'.join(gp_names) # /으로 지역들을 묶어줌\n",
    "        # 충남, 세종 제외\n",
    "        df = df[~df.광역시도.isin(gp_names)]\n",
    "else:\n",
    "    # 그룹화할 이름\n",
    "    gp_names =['충청남도','세종특별자치시']\n",
    "    # 충청남도와 세종특별자치시만 추출후 합계\n",
    "    new = df[df.광역시도.isin(gp_names)].sum(axis=0)\n",
    "    # 충남/세종 합계 새로운 행으로 추가\n",
    "    df = df.append(new, ignore_index=True)\n",
    "    # 이름 변경\n",
    "    df.iloc[-1,0] = '광역시도'\n",
    "    df.iloc[-1,1] = '충청남도/세종특별자치시'\n",
    "    # 충남, 세종 제외\n",
    "    df = df[~df.광역시도.isin(gp_names)]"
   ]
  },
  {
   "cell_type": "code",
   "execution_count": 6,
   "metadata": {
    "ExecuteTime": {
     "end_time": "2019-09-16T18:38:54.711783Z",
     "start_time": "2019-09-16T18:38:54.701810Z"
    }
   },
   "outputs": [
    {
     "data": {
      "text/html": [
       "<div>\n",
       "<style scoped>\n",
       "    .dataframe tbody tr th:only-of-type {\n",
       "        vertical-align: middle;\n",
       "    }\n",
       "\n",
       "    .dataframe tbody tr th {\n",
       "        vertical-align: top;\n",
       "    }\n",
       "\n",
       "    .dataframe thead th {\n",
       "        text-align: right;\n",
       "    }\n",
       "</style>\n",
       "<table border=\"1\" class=\"dataframe\">\n",
       "  <thead>\n",
       "    <tr style=\"text-align: right;\">\n",
       "      <th></th>\n",
       "      <th>구분</th>\n",
       "      <th>광역시도</th>\n",
       "      <th>남 19-29세</th>\n",
       "      <th>남 30대</th>\n",
       "      <th>남 40대</th>\n",
       "      <th>남 50대</th>\n",
       "      <th>남 60세 이상</th>\n",
       "      <th>여 19-29세</th>\n",
       "      <th>여 30대</th>\n",
       "      <th>여 40대</th>\n",
       "      <th>여 50대</th>\n",
       "      <th>여 60세이상</th>\n",
       "      <th>남 합계</th>\n",
       "      <th>여 합계</th>\n",
       "      <th>총계</th>\n",
       "    </tr>\n",
       "  </thead>\n",
       "  <tbody>\n",
       "    <tr>\n",
       "      <th>0</th>\n",
       "      <td>광역시도</td>\n",
       "      <td>서울특별시</td>\n",
       "      <td>772628</td>\n",
       "      <td>763229</td>\n",
       "      <td>778853</td>\n",
       "      <td>758124</td>\n",
       "      <td>967381</td>\n",
       "      <td>796778</td>\n",
       "      <td>763233</td>\n",
       "      <td>791426</td>\n",
       "      <td>790462</td>\n",
       "      <td>1170959</td>\n",
       "      <td>4040215</td>\n",
       "      <td>4312858</td>\n",
       "      <td>8353073</td>\n",
       "    </tr>\n",
       "    <tr>\n",
       "      <th>3</th>\n",
       "      <td>광역시도</td>\n",
       "      <td>경기도/인천광역시</td>\n",
       "      <td>1245835</td>\n",
       "      <td>1212175</td>\n",
       "      <td>1410536</td>\n",
       "      <td>1369007</td>\n",
       "      <td>1385210</td>\n",
       "      <td>1128124</td>\n",
       "      <td>1150155</td>\n",
       "      <td>1364834</td>\n",
       "      <td>1334668</td>\n",
       "      <td>1634471</td>\n",
       "      <td>6622763</td>\n",
       "      <td>6612252</td>\n",
       "      <td>13235015</td>\n",
       "    </tr>\n",
       "    <tr>\n",
       "      <th>4</th>\n",
       "      <td>광역시도</td>\n",
       "      <td>대전광역시/세종특별자치시/충청남도/충청북도</td>\n",
       "      <td>412198</td>\n",
       "      <td>392508</td>\n",
       "      <td>456785</td>\n",
       "      <td>463171</td>\n",
       "      <td>566927</td>\n",
       "      <td>351482</td>\n",
       "      <td>357503</td>\n",
       "      <td>423776</td>\n",
       "      <td>439011</td>\n",
       "      <td>692197</td>\n",
       "      <td>2291589</td>\n",
       "      <td>2263969</td>\n",
       "      <td>4555558</td>\n",
       "    </tr>\n",
       "    <tr>\n",
       "      <th>5</th>\n",
       "      <td>광역시도</td>\n",
       "      <td>광주광역시/전라남도/전라북도</td>\n",
       "      <td>371526</td>\n",
       "      <td>307742</td>\n",
       "      <td>408898</td>\n",
       "      <td>442186</td>\n",
       "      <td>586247</td>\n",
       "      <td>322472</td>\n",
       "      <td>289049</td>\n",
       "      <td>380961</td>\n",
       "      <td>415654</td>\n",
       "      <td>756175</td>\n",
       "      <td>2116599</td>\n",
       "      <td>2164311</td>\n",
       "      <td>4280910</td>\n",
       "    </tr>\n",
       "    <tr>\n",
       "      <th>6</th>\n",
       "      <td>광역시도</td>\n",
       "      <td>대구광역시/경상북도</td>\n",
       "      <td>375842</td>\n",
       "      <td>326161</td>\n",
       "      <td>401575</td>\n",
       "      <td>452286</td>\n",
       "      <td>575799</td>\n",
       "      <td>309604</td>\n",
       "      <td>297849</td>\n",
       "      <td>388876</td>\n",
       "      <td>447751</td>\n",
       "      <td>728022</td>\n",
       "      <td>2131663</td>\n",
       "      <td>2172102</td>\n",
       "      <td>4303765</td>\n",
       "    </tr>\n",
       "    <tr>\n",
       "      <th>7</th>\n",
       "      <td>광역시도</td>\n",
       "      <td>부산광역시/울산광역시/경상남도</td>\n",
       "      <td>580412</td>\n",
       "      <td>536804</td>\n",
       "      <td>639286</td>\n",
       "      <td>691068</td>\n",
       "      <td>849068</td>\n",
       "      <td>494544</td>\n",
       "      <td>500851</td>\n",
       "      <td>618201</td>\n",
       "      <td>694038</td>\n",
       "      <td>1043781</td>\n",
       "      <td>3296638</td>\n",
       "      <td>3351415</td>\n",
       "      <td>6648053</td>\n",
       "    </tr>\n",
       "    <tr>\n",
       "      <th>8</th>\n",
       "      <td>광역시도</td>\n",
       "      <td>강원도/제주특별자치도</td>\n",
       "      <td>158801</td>\n",
       "      <td>133769</td>\n",
       "      <td>177796</td>\n",
       "      <td>196504</td>\n",
       "      <td>256094</td>\n",
       "      <td>131470</td>\n",
       "      <td>125034</td>\n",
       "      <td>165677</td>\n",
       "      <td>186133</td>\n",
       "      <td>314668</td>\n",
       "      <td>922964</td>\n",
       "      <td>922982</td>\n",
       "      <td>1845946</td>\n",
       "    </tr>\n",
       "  </tbody>\n",
       "</table>\n",
       "</div>"
      ],
      "text/plain": [
       "     구분                     광역시도  남 19-29세    남 30대    남 40대    남 50대  \\\n",
       "0  광역시도                    서울특별시    772628   763229   778853   758124   \n",
       "3  광역시도                경기도/인천광역시   1245835  1212175  1410536  1369007   \n",
       "4  광역시도  대전광역시/세종특별자치시/충청남도/충청북도    412198   392508   456785   463171   \n",
       "5  광역시도          광주광역시/전라남도/전라북도    371526   307742   408898   442186   \n",
       "6  광역시도               대구광역시/경상북도    375842   326161   401575   452286   \n",
       "7  광역시도         부산광역시/울산광역시/경상남도    580412   536804   639286   691068   \n",
       "8  광역시도              강원도/제주특별자치도    158801   133769   177796   196504   \n",
       "\n",
       "   남 60세 이상  여 19-29세    여 30대    여 40대    여 50대  여 60세이상     남 합계     여 합계  \\\n",
       "0    967381    796778   763233   791426   790462  1170959  4040215  4312858   \n",
       "3   1385210   1128124  1150155  1364834  1334668  1634471  6622763  6612252   \n",
       "4    566927    351482   357503   423776   439011   692197  2291589  2263969   \n",
       "5    586247    322472   289049   380961   415654   756175  2116599  2164311   \n",
       "6    575799    309604   297849   388876   447751   728022  2131663  2172102   \n",
       "7    849068    494544   500851   618201   694038  1043781  3296638  3351415   \n",
       "8    256094    131470   125034   165677   186133   314668   922964   922982   \n",
       "\n",
       "         총계  \n",
       "0   8353073  \n",
       "3  13235015  \n",
       "4   4555558  \n",
       "5   4280910  \n",
       "6   4303765  \n",
       "7   6648053  \n",
       "8   1845946  "
      ]
     },
     "execution_count": 6,
     "metadata": {},
     "output_type": "execute_result"
    }
   ],
   "source": [
    "df"
   ]
  },
  {
   "cell_type": "code",
   "execution_count": 7,
   "metadata": {
    "ExecuteTime": {
     "end_time": "2019-09-16T18:38:54.726767Z",
     "start_time": "2019-09-16T18:38:54.712808Z"
    }
   },
   "outputs": [],
   "source": [
    "# Define Features\n",
    "male_cols = ['남 19-29세', '남 30대', '남 40대', '남 50대', '남 60세 이상']\n",
    "female_cols = ['여 19-29세', '여 30대', '여 40대', '여 50대', '여 60세이상']\n",
    "total_cols = male_cols + female_cols"
   ]
  },
  {
   "cell_type": "code",
   "execution_count": 8,
   "metadata": {
    "ExecuteTime": {
     "end_time": "2019-09-16T18:38:54.747714Z",
     "start_time": "2019-09-16T18:38:54.728738Z"
    }
   },
   "outputs": [
    {
     "name": "stdout",
     "output_type": "stream",
     "text": [
      "전체 인구수:  43222320\n"
     ]
    }
   ],
   "source": [
    "# Total Population\n",
    "total_pop = df[total_cols].sum().sum()\n",
    "print('전체 인구수: ',total_pop)"
   ]
  },
  {
   "cell_type": "code",
   "execution_count": 9,
   "metadata": {
    "ExecuteTime": {
     "end_time": "2019-09-16T18:38:54.795587Z",
     "start_time": "2019-09-16T18:38:54.749682Z"
    }
   },
   "outputs": [],
   "source": [
    "# 2단계 반올림 전\n",
    "before_df = df.copy()\n",
    "# 각 셀값을 전체 인구로 나누고 정해진 값으로 곱ㅎ\n",
    "before_df[total_cols] = (df[total_cols] / total_pop) * num \n",
    "# 남/여/총 합계 구하기\n",
    "before_df['남 합계'] = before_df[male_cols].sum(axis=1)\n",
    "before_df['여 합계'] = before_df[female_cols].sum(axis=1)\n",
    "before_df['총계'] = before_df[['남 합계' ,'여 합계']].sum(axis=1)\n",
    "# 2단계 남여 각각 합계의 반올림\n",
    "before_sex_sum = before_df[['남 합계' ,'여 합계']].sum().round()"
   ]
  },
  {
   "cell_type": "code",
   "execution_count": 10,
   "metadata": {
    "ExecuteTime": {
     "end_time": "2019-09-16T18:38:54.809549Z",
     "start_time": "2019-09-16T18:38:54.796557Z"
    }
   },
   "outputs": [
    {
     "data": {
      "text/html": [
       "<div>\n",
       "<style scoped>\n",
       "    .dataframe tbody tr th:only-of-type {\n",
       "        vertical-align: middle;\n",
       "    }\n",
       "\n",
       "    .dataframe tbody tr th {\n",
       "        vertical-align: top;\n",
       "    }\n",
       "\n",
       "    .dataframe thead th {\n",
       "        text-align: right;\n",
       "    }\n",
       "</style>\n",
       "<table border=\"1\" class=\"dataframe\">\n",
       "  <thead>\n",
       "    <tr style=\"text-align: right;\">\n",
       "      <th></th>\n",
       "      <th>구분</th>\n",
       "      <th>광역시도</th>\n",
       "      <th>남 19-29세</th>\n",
       "      <th>남 30대</th>\n",
       "      <th>남 40대</th>\n",
       "      <th>남 50대</th>\n",
       "      <th>남 60세 이상</th>\n",
       "      <th>여 19-29세</th>\n",
       "      <th>여 30대</th>\n",
       "      <th>여 40대</th>\n",
       "      <th>여 50대</th>\n",
       "      <th>여 60세이상</th>\n",
       "      <th>남 합계</th>\n",
       "      <th>여 합계</th>\n",
       "      <th>총계</th>\n",
       "    </tr>\n",
       "  </thead>\n",
       "  <tbody>\n",
       "    <tr>\n",
       "      <th>0</th>\n",
       "      <td>광역시도</td>\n",
       "      <td>서울특별시</td>\n",
       "      <td>14.300537</td>\n",
       "      <td>14.126572</td>\n",
       "      <td>14.415756</td>\n",
       "      <td>14.032083</td>\n",
       "      <td>17.905212</td>\n",
       "      <td>14.747529</td>\n",
       "      <td>14.126646</td>\n",
       "      <td>14.648469</td>\n",
       "      <td>14.630626</td>\n",
       "      <td>21.673228</td>\n",
       "      <td>74.780160</td>\n",
       "      <td>79.826497</td>\n",
       "      <td>154.606657</td>\n",
       "    </tr>\n",
       "    <tr>\n",
       "      <th>3</th>\n",
       "      <td>광역시도</td>\n",
       "      <td>경기도/인천광역시</td>\n",
       "      <td>23.059105</td>\n",
       "      <td>22.436093</td>\n",
       "      <td>26.107548</td>\n",
       "      <td>25.338890</td>\n",
       "      <td>25.638790</td>\n",
       "      <td>20.880397</td>\n",
       "      <td>21.288168</td>\n",
       "      <td>25.261652</td>\n",
       "      <td>24.703311</td>\n",
       "      <td>30.252351</td>\n",
       "      <td>122.580426</td>\n",
       "      <td>122.385878</td>\n",
       "      <td>244.966304</td>\n",
       "    </tr>\n",
       "    <tr>\n",
       "      <th>4</th>\n",
       "      <td>광역시도</td>\n",
       "      <td>대전광역시/세종특별자치시/충청남도/충청북도</td>\n",
       "      <td>7.629354</td>\n",
       "      <td>7.264913</td>\n",
       "      <td>8.454613</td>\n",
       "      <td>8.572811</td>\n",
       "      <td>10.493227</td>\n",
       "      <td>6.505565</td>\n",
       "      <td>6.617007</td>\n",
       "      <td>7.843651</td>\n",
       "      <td>8.125635</td>\n",
       "      <td>12.811844</td>\n",
       "      <td>42.414919</td>\n",
       "      <td>41.903702</td>\n",
       "      <td>84.318621</td>\n",
       "    </tr>\n",
       "    <tr>\n",
       "      <th>5</th>\n",
       "      <td>광역시도</td>\n",
       "      <td>광주광역시/전라남도/전라북도</td>\n",
       "      <td>6.876558</td>\n",
       "      <td>5.695983</td>\n",
       "      <td>7.568275</td>\n",
       "      <td>8.184401</td>\n",
       "      <td>10.850820</td>\n",
       "      <td>5.968620</td>\n",
       "      <td>5.349995</td>\n",
       "      <td>7.051190</td>\n",
       "      <td>7.693321</td>\n",
       "      <td>13.996009</td>\n",
       "      <td>39.176037</td>\n",
       "      <td>40.059136</td>\n",
       "      <td>79.235173</td>\n",
       "    </tr>\n",
       "    <tr>\n",
       "      <th>6</th>\n",
       "      <td>광역시도</td>\n",
       "      <td>대구광역시/경상북도</td>\n",
       "      <td>6.956443</td>\n",
       "      <td>6.036899</td>\n",
       "      <td>7.432734</td>\n",
       "      <td>8.371341</td>\n",
       "      <td>10.657438</td>\n",
       "      <td>5.730447</td>\n",
       "      <td>5.512874</td>\n",
       "      <td>7.197689</td>\n",
       "      <td>8.287403</td>\n",
       "      <td>13.474927</td>\n",
       "      <td>39.454856</td>\n",
       "      <td>40.203339</td>\n",
       "      <td>79.658195</td>\n",
       "    </tr>\n",
       "  </tbody>\n",
       "</table>\n",
       "</div>"
      ],
      "text/plain": [
       "     구분                     광역시도   남 19-29세      남 30대      남 40대      남 50대  \\\n",
       "0  광역시도                    서울특별시  14.300537  14.126572  14.415756  14.032083   \n",
       "3  광역시도                경기도/인천광역시  23.059105  22.436093  26.107548  25.338890   \n",
       "4  광역시도  대전광역시/세종특별자치시/충청남도/충청북도   7.629354   7.264913   8.454613   8.572811   \n",
       "5  광역시도          광주광역시/전라남도/전라북도   6.876558   5.695983   7.568275   8.184401   \n",
       "6  광역시도               대구광역시/경상북도   6.956443   6.036899   7.432734   8.371341   \n",
       "\n",
       "    남 60세 이상   여 19-29세      여 30대      여 40대      여 50대    여 60세이상  \\\n",
       "0  17.905212  14.747529  14.126646  14.648469  14.630626  21.673228   \n",
       "3  25.638790  20.880397  21.288168  25.261652  24.703311  30.252351   \n",
       "4  10.493227   6.505565   6.617007   7.843651   8.125635  12.811844   \n",
       "5  10.850820   5.968620   5.349995   7.051190   7.693321  13.996009   \n",
       "6  10.657438   5.730447   5.512874   7.197689   8.287403  13.474927   \n",
       "\n",
       "         남 합계        여 합계          총계  \n",
       "0   74.780160   79.826497  154.606657  \n",
       "3  122.580426  122.385878  244.966304  \n",
       "4   42.414919   41.903702   84.318621  \n",
       "5   39.176037   40.059136   79.235173  \n",
       "6   39.454856   40.203339   79.658195  "
      ]
     },
     "execution_count": 10,
     "metadata": {},
     "output_type": "execute_result"
    }
   ],
   "source": [
    "before_df.head()"
   ]
  },
  {
   "cell_type": "code",
   "execution_count": 11,
   "metadata": {
    "ExecuteTime": {
     "end_time": "2019-09-16T18:38:54.827498Z",
     "start_time": "2019-09-16T18:38:54.810519Z"
    }
   },
   "outputs": [
    {
     "data": {
      "text/plain": [
       "남 합계    397.0\n",
       "여 합계    403.0\n",
       "dtype: float64"
      ]
     },
     "execution_count": 11,
     "metadata": {},
     "output_type": "execute_result"
    }
   ],
   "source": [
    "before_sex_sum"
   ]
  },
  {
   "cell_type": "code",
   "execution_count": 12,
   "metadata": {
    "ExecuteTime": {
     "end_time": "2019-09-16T18:38:54.888311Z",
     "start_time": "2019-09-16T18:38:54.828471Z"
    }
   },
   "outputs": [],
   "source": [
    "# 3단계 반올림 후\n",
    "after_df = df.copy()\n",
    "# 각 셀값을 전체 인구로 나누고 정해진 값으로 곱ㅎ\n",
    "after_df[total_cols] = (df[total_cols] / total_pop) * num \n",
    "# 각 셀을 반올림\n",
    "after_df[total_cols] = after_df[total_cols].round() \n",
    "# 남/여/총 합계 구하기\n",
    "after_df['남 합계'] = after_df[male_cols].sum(axis=1)\n",
    "after_df['여 합계'] = after_df[female_cols].sum(axis=1)\n",
    "after_df['총계'] = after_df[['남 합계' ,'여 합계']].sum(axis=1)\n",
    "# 3단계 남여 각각 합계의 반올림\n",
    "after_sex_sum = after_df[['남 합계' ,'여 합계']].sum()"
   ]
  },
  {
   "cell_type": "code",
   "execution_count": 13,
   "metadata": {
    "ExecuteTime": {
     "end_time": "2019-09-16T18:38:54.907288Z",
     "start_time": "2019-09-16T18:38:54.889308Z"
    }
   },
   "outputs": [
    {
     "data": {
      "text/html": [
       "<div>\n",
       "<style scoped>\n",
       "    .dataframe tbody tr th:only-of-type {\n",
       "        vertical-align: middle;\n",
       "    }\n",
       "\n",
       "    .dataframe tbody tr th {\n",
       "        vertical-align: top;\n",
       "    }\n",
       "\n",
       "    .dataframe thead th {\n",
       "        text-align: right;\n",
       "    }\n",
       "</style>\n",
       "<table border=\"1\" class=\"dataframe\">\n",
       "  <thead>\n",
       "    <tr style=\"text-align: right;\">\n",
       "      <th></th>\n",
       "      <th>구분</th>\n",
       "      <th>광역시도</th>\n",
       "      <th>남 19-29세</th>\n",
       "      <th>남 30대</th>\n",
       "      <th>남 40대</th>\n",
       "      <th>남 50대</th>\n",
       "      <th>남 60세 이상</th>\n",
       "      <th>여 19-29세</th>\n",
       "      <th>여 30대</th>\n",
       "      <th>여 40대</th>\n",
       "      <th>여 50대</th>\n",
       "      <th>여 60세이상</th>\n",
       "      <th>남 합계</th>\n",
       "      <th>여 합계</th>\n",
       "      <th>총계</th>\n",
       "    </tr>\n",
       "  </thead>\n",
       "  <tbody>\n",
       "    <tr>\n",
       "      <th>0</th>\n",
       "      <td>광역시도</td>\n",
       "      <td>서울특별시</td>\n",
       "      <td>14.0</td>\n",
       "      <td>14.0</td>\n",
       "      <td>14.0</td>\n",
       "      <td>14.0</td>\n",
       "      <td>18.0</td>\n",
       "      <td>15.0</td>\n",
       "      <td>14.0</td>\n",
       "      <td>15.0</td>\n",
       "      <td>15.0</td>\n",
       "      <td>22.0</td>\n",
       "      <td>74.0</td>\n",
       "      <td>81.0</td>\n",
       "      <td>155.0</td>\n",
       "    </tr>\n",
       "    <tr>\n",
       "      <th>3</th>\n",
       "      <td>광역시도</td>\n",
       "      <td>경기도/인천광역시</td>\n",
       "      <td>23.0</td>\n",
       "      <td>22.0</td>\n",
       "      <td>26.0</td>\n",
       "      <td>25.0</td>\n",
       "      <td>26.0</td>\n",
       "      <td>21.0</td>\n",
       "      <td>21.0</td>\n",
       "      <td>25.0</td>\n",
       "      <td>25.0</td>\n",
       "      <td>30.0</td>\n",
       "      <td>122.0</td>\n",
       "      <td>122.0</td>\n",
       "      <td>244.0</td>\n",
       "    </tr>\n",
       "    <tr>\n",
       "      <th>4</th>\n",
       "      <td>광역시도</td>\n",
       "      <td>대전광역시/세종특별자치시/충청남도/충청북도</td>\n",
       "      <td>8.0</td>\n",
       "      <td>7.0</td>\n",
       "      <td>8.0</td>\n",
       "      <td>9.0</td>\n",
       "      <td>10.0</td>\n",
       "      <td>7.0</td>\n",
       "      <td>7.0</td>\n",
       "      <td>8.0</td>\n",
       "      <td>8.0</td>\n",
       "      <td>13.0</td>\n",
       "      <td>42.0</td>\n",
       "      <td>43.0</td>\n",
       "      <td>85.0</td>\n",
       "    </tr>\n",
       "    <tr>\n",
       "      <th>5</th>\n",
       "      <td>광역시도</td>\n",
       "      <td>광주광역시/전라남도/전라북도</td>\n",
       "      <td>7.0</td>\n",
       "      <td>6.0</td>\n",
       "      <td>8.0</td>\n",
       "      <td>8.0</td>\n",
       "      <td>11.0</td>\n",
       "      <td>6.0</td>\n",
       "      <td>5.0</td>\n",
       "      <td>7.0</td>\n",
       "      <td>8.0</td>\n",
       "      <td>14.0</td>\n",
       "      <td>40.0</td>\n",
       "      <td>40.0</td>\n",
       "      <td>80.0</td>\n",
       "    </tr>\n",
       "    <tr>\n",
       "      <th>6</th>\n",
       "      <td>광역시도</td>\n",
       "      <td>대구광역시/경상북도</td>\n",
       "      <td>7.0</td>\n",
       "      <td>6.0</td>\n",
       "      <td>7.0</td>\n",
       "      <td>8.0</td>\n",
       "      <td>11.0</td>\n",
       "      <td>6.0</td>\n",
       "      <td>6.0</td>\n",
       "      <td>7.0</td>\n",
       "      <td>8.0</td>\n",
       "      <td>13.0</td>\n",
       "      <td>39.0</td>\n",
       "      <td>40.0</td>\n",
       "      <td>79.0</td>\n",
       "    </tr>\n",
       "  </tbody>\n",
       "</table>\n",
       "</div>"
      ],
      "text/plain": [
       "     구분                     광역시도  남 19-29세  남 30대  남 40대  남 50대  남 60세 이상  \\\n",
       "0  광역시도                    서울특별시      14.0   14.0   14.0   14.0      18.0   \n",
       "3  광역시도                경기도/인천광역시      23.0   22.0   26.0   25.0      26.0   \n",
       "4  광역시도  대전광역시/세종특별자치시/충청남도/충청북도       8.0    7.0    8.0    9.0      10.0   \n",
       "5  광역시도          광주광역시/전라남도/전라북도       7.0    6.0    8.0    8.0      11.0   \n",
       "6  광역시도               대구광역시/경상북도       7.0    6.0    7.0    8.0      11.0   \n",
       "\n",
       "   여 19-29세  여 30대  여 40대  여 50대  여 60세이상   남 합계   여 합계     총계  \n",
       "0      15.0   14.0   15.0   15.0     22.0   74.0   81.0  155.0  \n",
       "3      21.0   21.0   25.0   25.0     30.0  122.0  122.0  244.0  \n",
       "4       7.0    7.0    8.0    8.0     13.0   42.0   43.0   85.0  \n",
       "5       6.0    5.0    7.0    8.0     14.0   40.0   40.0   80.0  \n",
       "6       6.0    6.0    7.0    8.0     13.0   39.0   40.0   79.0  "
      ]
     },
     "execution_count": 13,
     "metadata": {},
     "output_type": "execute_result"
    }
   ],
   "source": [
    "after_df.head()"
   ]
  },
  {
   "cell_type": "code",
   "execution_count": 14,
   "metadata": {
    "ExecuteTime": {
     "end_time": "2019-09-16T18:38:54.921247Z",
     "start_time": "2019-09-16T18:38:54.908257Z"
    }
   },
   "outputs": [
    {
     "data": {
      "text/plain": [
       "남 합계    396.0\n",
       "여 합계    403.0\n",
       "dtype: float64"
      ]
     },
     "execution_count": 14,
     "metadata": {},
     "output_type": "execute_result"
    }
   ],
   "source": [
    "after_sex_sum"
   ]
  },
  {
   "cell_type": "code",
   "execution_count": 15,
   "metadata": {
    "ExecuteTime": {
     "end_time": "2019-09-16T18:38:54.936207Z",
     "start_time": "2019-09-16T18:38:54.922247Z"
    }
   },
   "outputs": [],
   "source": [
    "# 2,3단계 남여 합계의 차이\n",
    "'''\n",
    "차이는 세 가지 경우로 나뉜다: 남여 각각 차이가 1. 0이거나 / 2. 0보다 크거나 / 3. 0보다 작거나 \n",
    "1. 0인 경우는 추가적인 일 없이 표 완성\n",
    "2. 만약 차이가 0보다 큰 경우 : xx.5 보다 작고 xx.5에 가장 가까운 값인 반올림 값에 + 1 \n",
    "- Why? 반올림하여 내림이 된 값 중 가장 올림에 가까운 값에 1을 더하는 것이 이상적이기 때문\n",
    "    ex) 2.49999 -> round(2.49999) + 1\n",
    "3. 만약 차이가 0보다 작은 경우 : xx.5 이상이고 xx.5에 가장 가까운 값인 반올림 값에 - 1\n",
    "- Why? 반올림하여 올림이 된 값 중 가장 내림에 가까운 값에 1을 빼는 것이 이상적이기 때문\n",
    "    ex) 2.50001 -> round(2.50001) - 1\n",
    "'''\n",
    "sex_diff = before_sex_sum - after_sex_sum"
   ]
  },
  {
   "cell_type": "code",
   "execution_count": 16,
   "metadata": {
    "ExecuteTime": {
     "end_time": "2019-09-16T18:38:54.952165Z",
     "start_time": "2019-09-16T18:38:54.937204Z"
    }
   },
   "outputs": [
    {
     "data": {
      "text/plain": [
       "남 합계    1.0\n",
       "여 합계    0.0\n",
       "dtype: float64"
      ]
     },
     "execution_count": 16,
     "metadata": {},
     "output_type": "execute_result"
    }
   ],
   "source": [
    "sex_diff"
   ]
  },
  {
   "cell_type": "code",
   "execution_count": 17,
   "metadata": {
    "ExecuteTime": {
     "end_time": "2019-09-16T18:38:54.974616Z",
     "start_time": "2019-09-16T18:38:54.952165Z"
    }
   },
   "outputs": [
    {
     "name": "stdout",
     "output_type": "stream",
     "text": [
      "sex_cols_lst:  [['남 19-29세', '남 30대', '남 40대', '남 50대', '남 60세 이상'], ['여 19-29세', '여 30대', '여 40대', '여 50대', '여 60세이상']]\n",
      "sex_cols:  ['남 합계', '여 합계']\n"
     ]
    }
   ],
   "source": [
    "# 성별 합계 차이를 매꾸는 단계\n",
    "sex_cols_lst = [male_cols, female_cols]\n",
    "sex_idx = ['남 합계' ,'여 합계']\n",
    "print('sex_cols_lst: ',sex_cols_lst)\n",
    "print('sex_cols: ',sex_idx)"
   ]
  },
  {
   "cell_type": "code",
   "execution_count": 18,
   "metadata": {
    "ExecuteTime": {
     "end_time": "2019-09-16T18:38:54.996563Z",
     "start_time": "2019-09-16T18:38:54.975621Z"
    }
   },
   "outputs": [],
   "source": [
    "# 차이가 0보다 큰 경우\n",
    "'''\n",
    "1단계: 2단계 반올림 전 값을 모두 내림 한 후 0.5를 더 한다.\n",
    "2단계: 1번에서 한 값과 2단계 반올림 전 값을 뺀다.\n",
    "3단계: 음수로 나오는 값은 모두 1로 변환. 1이 가장 큰 값이기 때문.\n",
    "ex) 13.45 -> 13 으로 내림 후 (13 + 0.5) - 13.45 = 0.05\n",
    "'''\n",
    "temp = (before_df[sex_cols_lst[0]].astype(int) + 0.5) - before_df[sex_cols_lst[0]] # 1,2번\n",
    "temp = temp[temp >0].fillna(1) # 3번\n",
    "v = 1"
   ]
  },
  {
   "cell_type": "code",
   "execution_count": 19,
   "metadata": {
    "ExecuteTime": {
     "end_time": "2019-09-16T18:38:55.011527Z",
     "start_time": "2019-09-16T18:38:54.997536Z"
    }
   },
   "outputs": [
    {
     "data": {
      "text/html": [
       "<div>\n",
       "<style scoped>\n",
       "    .dataframe tbody tr th:only-of-type {\n",
       "        vertical-align: middle;\n",
       "    }\n",
       "\n",
       "    .dataframe tbody tr th {\n",
       "        vertical-align: top;\n",
       "    }\n",
       "\n",
       "    .dataframe thead th {\n",
       "        text-align: right;\n",
       "    }\n",
       "</style>\n",
       "<table border=\"1\" class=\"dataframe\">\n",
       "  <thead>\n",
       "    <tr style=\"text-align: right;\">\n",
       "      <th></th>\n",
       "      <th>남 19-29세</th>\n",
       "      <th>남 30대</th>\n",
       "      <th>남 40대</th>\n",
       "      <th>남 50대</th>\n",
       "      <th>남 60세 이상</th>\n",
       "    </tr>\n",
       "  </thead>\n",
       "  <tbody>\n",
       "    <tr>\n",
       "      <th>0</th>\n",
       "      <td>14.300537</td>\n",
       "      <td>14.126572</td>\n",
       "      <td>14.415756</td>\n",
       "      <td>14.032083</td>\n",
       "      <td>17.905212</td>\n",
       "    </tr>\n",
       "    <tr>\n",
       "      <th>3</th>\n",
       "      <td>23.059105</td>\n",
       "      <td>22.436093</td>\n",
       "      <td>26.107548</td>\n",
       "      <td>25.338890</td>\n",
       "      <td>25.638790</td>\n",
       "    </tr>\n",
       "    <tr>\n",
       "      <th>4</th>\n",
       "      <td>7.629354</td>\n",
       "      <td>7.264913</td>\n",
       "      <td>8.454613</td>\n",
       "      <td>8.572811</td>\n",
       "      <td>10.493227</td>\n",
       "    </tr>\n",
       "    <tr>\n",
       "      <th>5</th>\n",
       "      <td>6.876558</td>\n",
       "      <td>5.695983</td>\n",
       "      <td>7.568275</td>\n",
       "      <td>8.184401</td>\n",
       "      <td>10.850820</td>\n",
       "    </tr>\n",
       "    <tr>\n",
       "      <th>6</th>\n",
       "      <td>6.956443</td>\n",
       "      <td>6.036899</td>\n",
       "      <td>7.432734</td>\n",
       "      <td>8.371341</td>\n",
       "      <td>10.657438</td>\n",
       "    </tr>\n",
       "  </tbody>\n",
       "</table>\n",
       "</div>"
      ],
      "text/plain": [
       "    남 19-29세      남 30대      남 40대      남 50대   남 60세 이상\n",
       "0  14.300537  14.126572  14.415756  14.032083  17.905212\n",
       "3  23.059105  22.436093  26.107548  25.338890  25.638790\n",
       "4   7.629354   7.264913   8.454613   8.572811  10.493227\n",
       "5   6.876558   5.695983   7.568275   8.184401  10.850820\n",
       "6   6.956443   6.036899   7.432734   8.371341  10.657438"
      ]
     },
     "execution_count": 19,
     "metadata": {},
     "output_type": "execute_result"
    }
   ],
   "source": [
    "# 2단계 값\n",
    "before_df[sex_cols_lst[0]].head()"
   ]
  },
  {
   "cell_type": "code",
   "execution_count": 20,
   "metadata": {
    "ExecuteTime": {
     "end_time": "2019-09-16T18:38:55.031473Z",
     "start_time": "2019-09-16T18:38:55.012498Z"
    }
   },
   "outputs": [
    {
     "data": {
      "text/html": [
       "<div>\n",
       "<style scoped>\n",
       "    .dataframe tbody tr th:only-of-type {\n",
       "        vertical-align: middle;\n",
       "    }\n",
       "\n",
       "    .dataframe tbody tr th {\n",
       "        vertical-align: top;\n",
       "    }\n",
       "\n",
       "    .dataframe thead th {\n",
       "        text-align: right;\n",
       "    }\n",
       "</style>\n",
       "<table border=\"1\" class=\"dataframe\">\n",
       "  <thead>\n",
       "    <tr style=\"text-align: right;\">\n",
       "      <th></th>\n",
       "      <th>남 19-29세</th>\n",
       "      <th>남 30대</th>\n",
       "      <th>남 40대</th>\n",
       "      <th>남 50대</th>\n",
       "      <th>남 60세 이상</th>\n",
       "    </tr>\n",
       "  </thead>\n",
       "  <tbody>\n",
       "    <tr>\n",
       "      <th>0</th>\n",
       "      <td>14</td>\n",
       "      <td>14</td>\n",
       "      <td>14</td>\n",
       "      <td>14</td>\n",
       "      <td>17</td>\n",
       "    </tr>\n",
       "    <tr>\n",
       "      <th>3</th>\n",
       "      <td>23</td>\n",
       "      <td>22</td>\n",
       "      <td>26</td>\n",
       "      <td>25</td>\n",
       "      <td>25</td>\n",
       "    </tr>\n",
       "    <tr>\n",
       "      <th>4</th>\n",
       "      <td>7</td>\n",
       "      <td>7</td>\n",
       "      <td>8</td>\n",
       "      <td>8</td>\n",
       "      <td>10</td>\n",
       "    </tr>\n",
       "    <tr>\n",
       "      <th>5</th>\n",
       "      <td>6</td>\n",
       "      <td>5</td>\n",
       "      <td>7</td>\n",
       "      <td>8</td>\n",
       "      <td>10</td>\n",
       "    </tr>\n",
       "    <tr>\n",
       "      <th>6</th>\n",
       "      <td>6</td>\n",
       "      <td>6</td>\n",
       "      <td>7</td>\n",
       "      <td>8</td>\n",
       "      <td>10</td>\n",
       "    </tr>\n",
       "  </tbody>\n",
       "</table>\n",
       "</div>"
      ],
      "text/plain": [
       "   남 19-29세  남 30대  남 40대  남 50대  남 60세 이상\n",
       "0        14     14     14     14        17\n",
       "3        23     22     26     25        25\n",
       "4         7      7      8      8        10\n",
       "5         6      5      7      8        10\n",
       "6         6      6      7      8        10"
      ]
     },
     "execution_count": 20,
     "metadata": {},
     "output_type": "execute_result"
    }
   ],
   "source": [
    "# 전체 소수점을 내림한다.\n",
    "before_df[sex_cols_lst[0]].astype(int).head()"
   ]
  },
  {
   "cell_type": "code",
   "execution_count": 21,
   "metadata": {
    "ExecuteTime": {
     "end_time": "2019-09-16T18:38:55.052390Z",
     "start_time": "2019-09-16T18:38:55.032443Z"
    }
   },
   "outputs": [
    {
     "data": {
      "text/html": [
       "<div>\n",
       "<style scoped>\n",
       "    .dataframe tbody tr th:only-of-type {\n",
       "        vertical-align: middle;\n",
       "    }\n",
       "\n",
       "    .dataframe tbody tr th {\n",
       "        vertical-align: top;\n",
       "    }\n",
       "\n",
       "    .dataframe thead th {\n",
       "        text-align: right;\n",
       "    }\n",
       "</style>\n",
       "<table border=\"1\" class=\"dataframe\">\n",
       "  <thead>\n",
       "    <tr style=\"text-align: right;\">\n",
       "      <th></th>\n",
       "      <th>남 19-29세</th>\n",
       "      <th>남 30대</th>\n",
       "      <th>남 40대</th>\n",
       "      <th>남 50대</th>\n",
       "      <th>남 60세 이상</th>\n",
       "    </tr>\n",
       "  </thead>\n",
       "  <tbody>\n",
       "    <tr>\n",
       "      <th>0</th>\n",
       "      <td>14.5</td>\n",
       "      <td>14.5</td>\n",
       "      <td>14.5</td>\n",
       "      <td>14.5</td>\n",
       "      <td>17.5</td>\n",
       "    </tr>\n",
       "    <tr>\n",
       "      <th>3</th>\n",
       "      <td>23.5</td>\n",
       "      <td>22.5</td>\n",
       "      <td>26.5</td>\n",
       "      <td>25.5</td>\n",
       "      <td>25.5</td>\n",
       "    </tr>\n",
       "    <tr>\n",
       "      <th>4</th>\n",
       "      <td>7.5</td>\n",
       "      <td>7.5</td>\n",
       "      <td>8.5</td>\n",
       "      <td>8.5</td>\n",
       "      <td>10.5</td>\n",
       "    </tr>\n",
       "    <tr>\n",
       "      <th>5</th>\n",
       "      <td>6.5</td>\n",
       "      <td>5.5</td>\n",
       "      <td>7.5</td>\n",
       "      <td>8.5</td>\n",
       "      <td>10.5</td>\n",
       "    </tr>\n",
       "    <tr>\n",
       "      <th>6</th>\n",
       "      <td>6.5</td>\n",
       "      <td>6.5</td>\n",
       "      <td>7.5</td>\n",
       "      <td>8.5</td>\n",
       "      <td>10.5</td>\n",
       "    </tr>\n",
       "  </tbody>\n",
       "</table>\n",
       "</div>"
      ],
      "text/plain": [
       "   남 19-29세  남 30대  남 40대  남 50대  남 60세 이상\n",
       "0      14.5   14.5   14.5   14.5      17.5\n",
       "3      23.5   22.5   26.5   25.5      25.5\n",
       "4       7.5    7.5    8.5    8.5      10.5\n",
       "5       6.5    5.5    7.5    8.5      10.5\n",
       "6       6.5    6.5    7.5    8.5      10.5"
      ]
     },
     "execution_count": 21,
     "metadata": {},
     "output_type": "execute_result"
    }
   ],
   "source": [
    "# 내림된 값에다 0.5를 더한다.\n",
    "(before_df[sex_cols_lst[0]].astype(int) + 0.5).head()"
   ]
  },
  {
   "cell_type": "code",
   "execution_count": 22,
   "metadata": {
    "ExecuteTime": {
     "end_time": "2019-09-16T18:38:55.072360Z",
     "start_time": "2019-09-16T18:38:55.053387Z"
    }
   },
   "outputs": [
    {
     "data": {
      "text/html": [
       "<div>\n",
       "<style scoped>\n",
       "    .dataframe tbody tr th:only-of-type {\n",
       "        vertical-align: middle;\n",
       "    }\n",
       "\n",
       "    .dataframe tbody tr th {\n",
       "        vertical-align: top;\n",
       "    }\n",
       "\n",
       "    .dataframe thead th {\n",
       "        text-align: right;\n",
       "    }\n",
       "</style>\n",
       "<table border=\"1\" class=\"dataframe\">\n",
       "  <thead>\n",
       "    <tr style=\"text-align: right;\">\n",
       "      <th></th>\n",
       "      <th>남 19-29세</th>\n",
       "      <th>남 30대</th>\n",
       "      <th>남 40대</th>\n",
       "      <th>남 50대</th>\n",
       "      <th>남 60세 이상</th>\n",
       "    </tr>\n",
       "  </thead>\n",
       "  <tbody>\n",
       "    <tr>\n",
       "      <th>0</th>\n",
       "      <td>0.199463</td>\n",
       "      <td>0.373428</td>\n",
       "      <td>0.084244</td>\n",
       "      <td>0.467917</td>\n",
       "      <td>-0.405212</td>\n",
       "    </tr>\n",
       "    <tr>\n",
       "      <th>3</th>\n",
       "      <td>0.440895</td>\n",
       "      <td>0.063907</td>\n",
       "      <td>0.392452</td>\n",
       "      <td>0.161110</td>\n",
       "      <td>-0.138790</td>\n",
       "    </tr>\n",
       "    <tr>\n",
       "      <th>4</th>\n",
       "      <td>-0.129354</td>\n",
       "      <td>0.235087</td>\n",
       "      <td>0.045387</td>\n",
       "      <td>-0.072811</td>\n",
       "      <td>0.006773</td>\n",
       "    </tr>\n",
       "    <tr>\n",
       "      <th>5</th>\n",
       "      <td>-0.376558</td>\n",
       "      <td>-0.195983</td>\n",
       "      <td>-0.068275</td>\n",
       "      <td>0.315599</td>\n",
       "      <td>-0.350820</td>\n",
       "    </tr>\n",
       "    <tr>\n",
       "      <th>6</th>\n",
       "      <td>-0.456443</td>\n",
       "      <td>0.463101</td>\n",
       "      <td>0.067266</td>\n",
       "      <td>0.128659</td>\n",
       "      <td>-0.157438</td>\n",
       "    </tr>\n",
       "  </tbody>\n",
       "</table>\n",
       "</div>"
      ],
      "text/plain": [
       "   남 19-29세     남 30대     남 40대     남 50대  남 60세 이상\n",
       "0  0.199463  0.373428  0.084244  0.467917 -0.405212\n",
       "3  0.440895  0.063907  0.392452  0.161110 -0.138790\n",
       "4 -0.129354  0.235087  0.045387 -0.072811  0.006773\n",
       "5 -0.376558 -0.195983 -0.068275  0.315599 -0.350820\n",
       "6 -0.456443  0.463101  0.067266  0.128659 -0.157438"
      ]
     },
     "execution_count": 22,
     "metadata": {},
     "output_type": "execute_result"
    }
   ],
   "source": [
    "# 0.5를 더한 값에 2단계를 뺀다\n",
    "test = (before_df[sex_cols_lst[0]].astype(int) + 0.5) - before_df[sex_cols_lst[0]]\n",
    "test.head()"
   ]
  },
  {
   "cell_type": "code",
   "execution_count": 23,
   "metadata": {
    "ExecuteTime": {
     "end_time": "2019-09-16T18:38:55.090312Z",
     "start_time": "2019-09-16T18:38:55.075363Z"
    }
   },
   "outputs": [
    {
     "data": {
      "text/html": [
       "<div>\n",
       "<style scoped>\n",
       "    .dataframe tbody tr th:only-of-type {\n",
       "        vertical-align: middle;\n",
       "    }\n",
       "\n",
       "    .dataframe tbody tr th {\n",
       "        vertical-align: top;\n",
       "    }\n",
       "\n",
       "    .dataframe thead th {\n",
       "        text-align: right;\n",
       "    }\n",
       "</style>\n",
       "<table border=\"1\" class=\"dataframe\">\n",
       "  <thead>\n",
       "    <tr style=\"text-align: right;\">\n",
       "      <th></th>\n",
       "      <th>남 19-29세</th>\n",
       "      <th>남 30대</th>\n",
       "      <th>남 40대</th>\n",
       "      <th>남 50대</th>\n",
       "      <th>남 60세 이상</th>\n",
       "    </tr>\n",
       "  </thead>\n",
       "  <tbody>\n",
       "    <tr>\n",
       "      <th>0</th>\n",
       "      <td>0.199463</td>\n",
       "      <td>0.373428</td>\n",
       "      <td>0.084244</td>\n",
       "      <td>0.467917</td>\n",
       "      <td>NaN</td>\n",
       "    </tr>\n",
       "    <tr>\n",
       "      <th>3</th>\n",
       "      <td>0.440895</td>\n",
       "      <td>0.063907</td>\n",
       "      <td>0.392452</td>\n",
       "      <td>0.161110</td>\n",
       "      <td>NaN</td>\n",
       "    </tr>\n",
       "    <tr>\n",
       "      <th>4</th>\n",
       "      <td>NaN</td>\n",
       "      <td>0.235087</td>\n",
       "      <td>0.045387</td>\n",
       "      <td>NaN</td>\n",
       "      <td>0.006773</td>\n",
       "    </tr>\n",
       "    <tr>\n",
       "      <th>5</th>\n",
       "      <td>NaN</td>\n",
       "      <td>NaN</td>\n",
       "      <td>NaN</td>\n",
       "      <td>0.315599</td>\n",
       "      <td>NaN</td>\n",
       "    </tr>\n",
       "    <tr>\n",
       "      <th>6</th>\n",
       "      <td>NaN</td>\n",
       "      <td>0.463101</td>\n",
       "      <td>0.067266</td>\n",
       "      <td>0.128659</td>\n",
       "      <td>NaN</td>\n",
       "    </tr>\n",
       "  </tbody>\n",
       "</table>\n",
       "</div>"
      ],
      "text/plain": [
       "   남 19-29세     남 30대     남 40대     남 50대  남 60세 이상\n",
       "0  0.199463  0.373428  0.084244  0.467917       NaN\n",
       "3  0.440895  0.063907  0.392452  0.161110       NaN\n",
       "4       NaN  0.235087  0.045387       NaN  0.006773\n",
       "5       NaN       NaN       NaN  0.315599       NaN\n",
       "6       NaN  0.463101  0.067266  0.128659       NaN"
      ]
     },
     "execution_count": 23,
     "metadata": {},
     "output_type": "execute_result"
    }
   ],
   "source": [
    "# 0보다 큰 값만 사용한다.\n",
    "test[test>0].head()"
   ]
  },
  {
   "cell_type": "code",
   "execution_count": 24,
   "metadata": {
    "ExecuteTime": {
     "end_time": "2019-09-16T18:38:55.112230Z",
     "start_time": "2019-09-16T18:38:55.092283Z"
    }
   },
   "outputs": [
    {
     "data": {
      "text/html": [
       "<div>\n",
       "<style scoped>\n",
       "    .dataframe tbody tr th:only-of-type {\n",
       "        vertical-align: middle;\n",
       "    }\n",
       "\n",
       "    .dataframe tbody tr th {\n",
       "        vertical-align: top;\n",
       "    }\n",
       "\n",
       "    .dataframe thead th {\n",
       "        text-align: right;\n",
       "    }\n",
       "</style>\n",
       "<table border=\"1\" class=\"dataframe\">\n",
       "  <thead>\n",
       "    <tr style=\"text-align: right;\">\n",
       "      <th></th>\n",
       "      <th>남 19-29세</th>\n",
       "      <th>남 30대</th>\n",
       "      <th>남 40대</th>\n",
       "      <th>남 50대</th>\n",
       "      <th>남 60세 이상</th>\n",
       "    </tr>\n",
       "  </thead>\n",
       "  <tbody>\n",
       "    <tr>\n",
       "      <th>0</th>\n",
       "      <td>0.199463</td>\n",
       "      <td>0.373428</td>\n",
       "      <td>0.084244</td>\n",
       "      <td>0.467917</td>\n",
       "      <td>1.000000</td>\n",
       "    </tr>\n",
       "    <tr>\n",
       "      <th>3</th>\n",
       "      <td>0.440895</td>\n",
       "      <td>0.063907</td>\n",
       "      <td>0.392452</td>\n",
       "      <td>0.161110</td>\n",
       "      <td>1.000000</td>\n",
       "    </tr>\n",
       "    <tr>\n",
       "      <th>4</th>\n",
       "      <td>1.000000</td>\n",
       "      <td>0.235087</td>\n",
       "      <td>0.045387</td>\n",
       "      <td>1.000000</td>\n",
       "      <td>0.006773</td>\n",
       "    </tr>\n",
       "    <tr>\n",
       "      <th>5</th>\n",
       "      <td>1.000000</td>\n",
       "      <td>1.000000</td>\n",
       "      <td>1.000000</td>\n",
       "      <td>0.315599</td>\n",
       "      <td>1.000000</td>\n",
       "    </tr>\n",
       "    <tr>\n",
       "      <th>6</th>\n",
       "      <td>1.000000</td>\n",
       "      <td>0.463101</td>\n",
       "      <td>0.067266</td>\n",
       "      <td>0.128659</td>\n",
       "      <td>1.000000</td>\n",
       "    </tr>\n",
       "  </tbody>\n",
       "</table>\n",
       "</div>"
      ],
      "text/plain": [
       "   남 19-29세     남 30대     남 40대     남 50대  남 60세 이상\n",
       "0  0.199463  0.373428  0.084244  0.467917  1.000000\n",
       "3  0.440895  0.063907  0.392452  0.161110  1.000000\n",
       "4  1.000000  0.235087  0.045387  1.000000  0.006773\n",
       "5  1.000000  1.000000  1.000000  0.315599  1.000000\n",
       "6  1.000000  0.463101  0.067266  0.128659  1.000000"
      ]
     },
     "execution_count": 24,
     "metadata": {},
     "output_type": "execute_result"
    }
   ],
   "source": [
    "# NaN은 Not a Number의 약자. 결측치라는 얘기. \n",
    "# 결측치는 모두 1로 처리 가장 크기 때문\n",
    "test2 = test[test>0].fillna(1)\n",
    "test2.head()"
   ]
  },
  {
   "cell_type": "code",
   "execution_count": 25,
   "metadata": {
    "ExecuteTime": {
     "end_time": "2019-09-16T18:38:55.129211Z",
     "start_time": "2019-09-16T18:38:55.112230Z"
    }
   },
   "outputs": [
    {
     "data": {
      "text/plain": [
       "1"
      ]
     },
     "execution_count": 25,
     "metadata": {},
     "output_type": "execute_result"
    }
   ],
   "source": [
    "# 실제합계와의 차이: 절대값을 통해서 음수를 변환하고 정수로 타입을 변환\n",
    "cnt = int(abs(sex_diff.loc[sex_idx[0]]))\n",
    "cnt"
   ]
  },
  {
   "cell_type": "code",
   "execution_count": 26,
   "metadata": {
    "ExecuteTime": {
     "end_time": "2019-09-16T18:38:55.145148Z",
     "start_time": "2019-09-16T18:38:55.130182Z"
    }
   },
   "outputs": [
    {
     "data": {
      "text/plain": [
       "array([0.19946269, 0.37342836, 0.08424444, 0.46791658, 1.        ,\n",
       "       0.44089535, 0.0639068 , 0.39245186, 0.16111028, 1.        ,\n",
       "       1.        , 0.23508687, 0.04538674, 1.        , 0.00677335,\n",
       "       1.        , 1.        , 1.        , 0.31559898, 1.        ,\n",
       "       1.        , 0.46310055, 0.06726617, 0.12865853, 1.        ,\n",
       "       1.        , 1.        , 1.        , 1.        , 1.        ,\n",
       "       1.        , 0.02407552, 0.20918174, 1.        , 1.        ])"
      ]
     },
     "execution_count": 26,
     "metadata": {},
     "output_type": "execute_result"
    }
   ],
   "source": [
    "# 1행으로 변환\n",
    "test3 = test2.values\n",
    "test3.ravel()"
   ]
  },
  {
   "cell_type": "code",
   "execution_count": 27,
   "metadata": {
    "ExecuteTime": {
     "end_time": "2019-09-16T18:38:55.162344Z",
     "start_time": "2019-09-16T18:38:55.146139Z"
    }
   },
   "outputs": [
    {
     "data": {
      "text/plain": [
       "array([14, 31, 12,  6, 22,  2, 23,  8,  0, 32, 11, 18,  1,  7,  5, 21,  3,\n",
       "       30, 29, 28, 27, 26, 25, 24, 17, 19, 33, 16, 15, 13, 10,  9,  4, 20,\n",
       "       34], dtype=int64)"
      ]
     },
     "execution_count": 27,
     "metadata": {},
     "output_type": "execute_result"
    }
   ],
   "source": [
    "# 작은 값을 기준으로 각 값들의 위치를 표시하여 정렬\n",
    "np.argsort(test3.ravel())"
   ]
  },
  {
   "cell_type": "code",
   "execution_count": 28,
   "metadata": {
    "ExecuteTime": {
     "end_time": "2019-09-16T18:38:55.177301Z",
     "start_time": "2019-09-16T18:38:55.163345Z"
    }
   },
   "outputs": [
    {
     "data": {
      "text/plain": [
       "array([14], dtype=int64)"
      ]
     },
     "execution_count": 28,
     "metadata": {},
     "output_type": "execute_result"
    }
   ],
   "source": [
    "# 상위 n개 선택\n",
    "np.argsort(test3.ravel())[:cnt]"
   ]
  },
  {
   "cell_type": "code",
   "execution_count": 30,
   "metadata": {
    "ExecuteTime": {
     "end_time": "2019-09-16T18:39:44.606829Z",
     "start_time": "2019-09-16T18:39:44.602840Z"
    }
   },
   "outputs": [
    {
     "name": "stdout",
     "output_type": "stream",
     "text": [
      "rows:  [2]\n",
      "cols:  [4]\n"
     ]
    }
   ],
   "source": [
    "# unravel_index라는 함수를 통해서 각 위치 좌표를 추출\n",
    "row_col = np.unravel_index(np.argsort(test3.ravel())[:cnt], test3.shape)\n",
    "rows = row_col[0]\n",
    "cols = row_col[1]\n",
    "print('rows: ',rows)\n",
    "print('cols: ',cols)"
   ]
  },
  {
   "cell_type": "code",
   "execution_count": 31,
   "metadata": {
    "ExecuteTime": {
     "end_time": "2019-09-16T18:39:45.092014Z",
     "start_time": "2019-09-16T18:39:45.084008Z"
    }
   },
   "outputs": [
    {
     "data": {
      "text/html": [
       "<div>\n",
       "<style scoped>\n",
       "    .dataframe tbody tr th:only-of-type {\n",
       "        vertical-align: middle;\n",
       "    }\n",
       "\n",
       "    .dataframe tbody tr th {\n",
       "        vertical-align: top;\n",
       "    }\n",
       "\n",
       "    .dataframe thead th {\n",
       "        text-align: right;\n",
       "    }\n",
       "</style>\n",
       "<table border=\"1\" class=\"dataframe\">\n",
       "  <thead>\n",
       "    <tr style=\"text-align: right;\">\n",
       "      <th></th>\n",
       "      <th>남 19-29세</th>\n",
       "      <th>남 30대</th>\n",
       "      <th>남 40대</th>\n",
       "      <th>남 50대</th>\n",
       "      <th>남 60세 이상</th>\n",
       "    </tr>\n",
       "  </thead>\n",
       "  <tbody>\n",
       "    <tr>\n",
       "      <th>0</th>\n",
       "      <td>14.300537</td>\n",
       "      <td>14.126572</td>\n",
       "      <td>14.415756</td>\n",
       "      <td>14.032083</td>\n",
       "      <td>17.905212</td>\n",
       "    </tr>\n",
       "    <tr>\n",
       "      <th>3</th>\n",
       "      <td>23.059105</td>\n",
       "      <td>22.436093</td>\n",
       "      <td>26.107548</td>\n",
       "      <td>25.338890</td>\n",
       "      <td>25.638790</td>\n",
       "    </tr>\n",
       "    <tr>\n",
       "      <th>4</th>\n",
       "      <td>7.629354</td>\n",
       "      <td>7.264913</td>\n",
       "      <td>8.454613</td>\n",
       "      <td>8.572811</td>\n",
       "      <td>10.493227</td>\n",
       "    </tr>\n",
       "    <tr>\n",
       "      <th>5</th>\n",
       "      <td>6.876558</td>\n",
       "      <td>5.695983</td>\n",
       "      <td>7.568275</td>\n",
       "      <td>8.184401</td>\n",
       "      <td>10.850820</td>\n",
       "    </tr>\n",
       "    <tr>\n",
       "      <th>6</th>\n",
       "      <td>6.956443</td>\n",
       "      <td>6.036899</td>\n",
       "      <td>7.432734</td>\n",
       "      <td>8.371341</td>\n",
       "      <td>10.657438</td>\n",
       "    </tr>\n",
       "  </tbody>\n",
       "</table>\n",
       "</div>"
      ],
      "text/plain": [
       "    남 19-29세      남 30대      남 40대      남 50대   남 60세 이상\n",
       "0  14.300537  14.126572  14.415756  14.032083  17.905212\n",
       "3  23.059105  22.436093  26.107548  25.338890  25.638790\n",
       "4   7.629354   7.264913   8.454613   8.572811  10.493227\n",
       "5   6.876558   5.695983   7.568275   8.184401  10.850820\n",
       "6   6.956443   6.036899   7.432734   8.371341  10.657438"
      ]
     },
     "execution_count": 31,
     "metadata": {},
     "output_type": "execute_result"
    }
   ],
   "source": [
    "# 남자들 인구만 추출\n",
    "temp = before_df[sex_cols_lst[0]].copy() \n",
    "temp.head()"
   ]
  },
  {
   "cell_type": "code",
   "execution_count": 32,
   "metadata": {
    "ExecuteTime": {
     "end_time": "2019-09-16T18:39:45.478587Z",
     "start_time": "2019-09-16T18:39:45.474590Z"
    }
   },
   "outputs": [
    {
     "name": "stdout",
     "output_type": "stream",
     "text": [
      "대전광역시/세종특별자치시/충청남도/충청북도의 남 60세 이상: 10.493226647713497\n"
     ]
    }
   ],
   "source": [
    "# 아슬아슬한애가 누구인지 확인\n",
    "value = temp.iloc[rows[0] ,cols[0]]\n",
    "print('{}의 {}: {}'.format(df[level].iloc[rows[0]], sex_cols_lst[0][cols[0]], value))"
   ]
  },
  {
   "cell_type": "code",
   "execution_count": 33,
   "metadata": {
    "ExecuteTime": {
     "end_time": "2019-09-16T18:39:45.880491Z",
     "start_time": "2019-09-16T18:39:45.874509Z"
    }
   },
   "outputs": [
    {
     "name": "stdout",
     "output_type": "stream",
     "text": [
      "1만큼 더해진 값:  11.0\n"
     ]
    }
   ],
   "source": [
    "# 아슬아슬한 애들에게 1만큼 더하기\n",
    "temp = after_df[sex_cols_lst[0]].copy()\n",
    "print('1만큼 더해진 값: ',temp.iloc[rows[0] ,cols[0]] + v)"
   ]
  },
  {
   "cell_type": "code",
   "execution_count": 34,
   "metadata": {
    "ExecuteTime": {
     "end_time": "2019-09-16T18:39:46.261464Z",
     "start_time": "2019-09-16T18:39:46.252488Z"
    }
   },
   "outputs": [
    {
     "data": {
      "text/html": [
       "<div>\n",
       "<style scoped>\n",
       "    .dataframe tbody tr th:only-of-type {\n",
       "        vertical-align: middle;\n",
       "    }\n",
       "\n",
       "    .dataframe tbody tr th {\n",
       "        vertical-align: top;\n",
       "    }\n",
       "\n",
       "    .dataframe thead th {\n",
       "        text-align: right;\n",
       "    }\n",
       "</style>\n",
       "<table border=\"1\" class=\"dataframe\">\n",
       "  <thead>\n",
       "    <tr style=\"text-align: right;\">\n",
       "      <th></th>\n",
       "      <th>남 19-29세</th>\n",
       "      <th>남 30대</th>\n",
       "      <th>남 40대</th>\n",
       "      <th>남 50대</th>\n",
       "      <th>남 60세 이상</th>\n",
       "    </tr>\n",
       "  </thead>\n",
       "  <tbody>\n",
       "    <tr>\n",
       "      <th>0</th>\n",
       "      <td>14.0</td>\n",
       "      <td>14.0</td>\n",
       "      <td>14.0</td>\n",
       "      <td>14.0</td>\n",
       "      <td>18.0</td>\n",
       "    </tr>\n",
       "    <tr>\n",
       "      <th>3</th>\n",
       "      <td>23.0</td>\n",
       "      <td>22.0</td>\n",
       "      <td>26.0</td>\n",
       "      <td>25.0</td>\n",
       "      <td>26.0</td>\n",
       "    </tr>\n",
       "    <tr>\n",
       "      <th>4</th>\n",
       "      <td>8.0</td>\n",
       "      <td>7.0</td>\n",
       "      <td>8.0</td>\n",
       "      <td>9.0</td>\n",
       "      <td>11.0</td>\n",
       "    </tr>\n",
       "    <tr>\n",
       "      <th>5</th>\n",
       "      <td>7.0</td>\n",
       "      <td>6.0</td>\n",
       "      <td>8.0</td>\n",
       "      <td>8.0</td>\n",
       "      <td>11.0</td>\n",
       "    </tr>\n",
       "    <tr>\n",
       "      <th>6</th>\n",
       "      <td>7.0</td>\n",
       "      <td>6.0</td>\n",
       "      <td>7.0</td>\n",
       "      <td>8.0</td>\n",
       "      <td>11.0</td>\n",
       "    </tr>\n",
       "    <tr>\n",
       "      <th>7</th>\n",
       "      <td>11.0</td>\n",
       "      <td>10.0</td>\n",
       "      <td>12.0</td>\n",
       "      <td>13.0</td>\n",
       "      <td>16.0</td>\n",
       "    </tr>\n",
       "    <tr>\n",
       "      <th>8</th>\n",
       "      <td>3.0</td>\n",
       "      <td>2.0</td>\n",
       "      <td>3.0</td>\n",
       "      <td>4.0</td>\n",
       "      <td>5.0</td>\n",
       "    </tr>\n",
       "  </tbody>\n",
       "</table>\n",
       "</div>"
      ],
      "text/plain": [
       "   남 19-29세  남 30대  남 40대  남 50대  남 60세 이상\n",
       "0      14.0   14.0   14.0   14.0      18.0\n",
       "3      23.0   22.0   26.0   25.0      26.0\n",
       "4       8.0    7.0    8.0    9.0      11.0\n",
       "5       7.0    6.0    8.0    8.0      11.0\n",
       "6       7.0    6.0    7.0    8.0      11.0\n",
       "7      11.0   10.0   12.0   13.0      16.0\n",
       "8       3.0    2.0    3.0    4.0       5.0"
      ]
     },
     "execution_count": 34,
     "metadata": {},
     "output_type": "execute_result"
    }
   ],
   "source": [
    "# 3단계 데이터프레임에 전라남도의 남 60세 이상에 1을 더해줌\n",
    "temp.iloc[rows[0] ,cols[0]] = temp.iloc[rows[0] ,cols[0]] + v\n",
    "temp.head(14)"
   ]
  },
  {
   "cell_type": "code",
   "execution_count": 35,
   "metadata": {
    "ExecuteTime": {
     "end_time": "2019-09-16T18:39:46.698295Z",
     "start_time": "2019-09-16T18:39:46.689319Z"
    }
   },
   "outputs": [
    {
     "name": "stdout",
     "output_type": "stream",
     "text": [
      "대전광역시/세종특별자치시/충청남도/충청북도의 남 60세 이상: 10.493226647713497\n",
      "\n"
     ]
    }
   ],
   "source": [
    "# 위에 내용을 일반화\n",
    "for r in range(len(rows)):\n",
    "    temp = before_df[sex_cols_lst[0]].copy()\n",
    "    value = temp.iloc[rows[r] ,cols[r]]\n",
    "    print('{}의 {}: {}'.format(df[level].iloc[rows[r]], sex_cols_lst[0][cols[r]], value))\n",
    "    temp = after_df[sex_cols_lst[0]].copy()\n",
    "    temp.iloc[rows[r] ,cols[r]] = temp.iloc[rows[r] ,cols[r]] + v\n",
    "    after_df[sex_cols_lst[0]] = temp\n",
    "print()"
   ]
  },
  {
   "cell_type": "code",
   "execution_count": 36,
   "metadata": {
    "ExecuteTime": {
     "end_time": "2019-09-16T18:39:47.026445Z",
     "start_time": "2019-09-16T18:39:47.016473Z"
    }
   },
   "outputs": [
    {
     "data": {
      "text/plain": [
       "남 합계    397.0\n",
       "여 합계    403.0\n",
       "dtype: float64"
      ]
     },
     "execution_count": 36,
     "metadata": {},
     "output_type": "execute_result"
    }
   ],
   "source": [
    "# 부족한 부분이 채워졌으면 합계 계산\n",
    "after_df['남 합계'] = after_df[male_cols].sum(axis=1)\n",
    "after_df['여 합계'] = after_df[female_cols].sum(axis=1)\n",
    "after_df['총계'] = after_df[['남 합계','여 합계']].sum(axis=1)\n",
    "after_df[['남 합계','여 합계']].sum()"
   ]
  },
  {
   "cell_type": "code",
   "execution_count": 37,
   "metadata": {
    "ExecuteTime": {
     "end_time": "2019-09-16T18:39:47.664053Z",
     "start_time": "2019-09-16T18:39:47.650090Z"
    }
   },
   "outputs": [
    {
     "data": {
      "text/html": [
       "<div>\n",
       "<style scoped>\n",
       "    .dataframe tbody tr th:only-of-type {\n",
       "        vertical-align: middle;\n",
       "    }\n",
       "\n",
       "    .dataframe tbody tr th {\n",
       "        vertical-align: top;\n",
       "    }\n",
       "\n",
       "    .dataframe thead th {\n",
       "        text-align: right;\n",
       "    }\n",
       "</style>\n",
       "<table border=\"1\" class=\"dataframe\">\n",
       "  <thead>\n",
       "    <tr style=\"text-align: right;\">\n",
       "      <th></th>\n",
       "      <th>구분</th>\n",
       "      <th>광역시도</th>\n",
       "      <th>남 19-29세</th>\n",
       "      <th>남 30대</th>\n",
       "      <th>남 40대</th>\n",
       "      <th>남 50대</th>\n",
       "      <th>남 60세 이상</th>\n",
       "      <th>여 19-29세</th>\n",
       "      <th>여 30대</th>\n",
       "      <th>여 40대</th>\n",
       "      <th>여 50대</th>\n",
       "      <th>여 60세이상</th>\n",
       "      <th>남 합계</th>\n",
       "      <th>여 합계</th>\n",
       "      <th>총계</th>\n",
       "    </tr>\n",
       "  </thead>\n",
       "  <tbody>\n",
       "    <tr>\n",
       "      <th>0</th>\n",
       "      <td>광역시도</td>\n",
       "      <td>서울특별시</td>\n",
       "      <td>14.0</td>\n",
       "      <td>14.0</td>\n",
       "      <td>14.0</td>\n",
       "      <td>14.0</td>\n",
       "      <td>18.0</td>\n",
       "      <td>15.0</td>\n",
       "      <td>14.0</td>\n",
       "      <td>15.0</td>\n",
       "      <td>15.0</td>\n",
       "      <td>22.0</td>\n",
       "      <td>74.0</td>\n",
       "      <td>81.0</td>\n",
       "      <td>155.0</td>\n",
       "    </tr>\n",
       "    <tr>\n",
       "      <th>3</th>\n",
       "      <td>광역시도</td>\n",
       "      <td>경기도/인천광역시</td>\n",
       "      <td>23.0</td>\n",
       "      <td>22.0</td>\n",
       "      <td>26.0</td>\n",
       "      <td>25.0</td>\n",
       "      <td>26.0</td>\n",
       "      <td>21.0</td>\n",
       "      <td>21.0</td>\n",
       "      <td>25.0</td>\n",
       "      <td>25.0</td>\n",
       "      <td>30.0</td>\n",
       "      <td>122.0</td>\n",
       "      <td>122.0</td>\n",
       "      <td>244.0</td>\n",
       "    </tr>\n",
       "    <tr>\n",
       "      <th>4</th>\n",
       "      <td>광역시도</td>\n",
       "      <td>대전광역시/세종특별자치시/충청남도/충청북도</td>\n",
       "      <td>8.0</td>\n",
       "      <td>7.0</td>\n",
       "      <td>8.0</td>\n",
       "      <td>9.0</td>\n",
       "      <td>11.0</td>\n",
       "      <td>7.0</td>\n",
       "      <td>7.0</td>\n",
       "      <td>8.0</td>\n",
       "      <td>8.0</td>\n",
       "      <td>13.0</td>\n",
       "      <td>43.0</td>\n",
       "      <td>43.0</td>\n",
       "      <td>86.0</td>\n",
       "    </tr>\n",
       "    <tr>\n",
       "      <th>5</th>\n",
       "      <td>광역시도</td>\n",
       "      <td>광주광역시/전라남도/전라북도</td>\n",
       "      <td>7.0</td>\n",
       "      <td>6.0</td>\n",
       "      <td>8.0</td>\n",
       "      <td>8.0</td>\n",
       "      <td>11.0</td>\n",
       "      <td>6.0</td>\n",
       "      <td>5.0</td>\n",
       "      <td>7.0</td>\n",
       "      <td>8.0</td>\n",
       "      <td>14.0</td>\n",
       "      <td>40.0</td>\n",
       "      <td>40.0</td>\n",
       "      <td>80.0</td>\n",
       "    </tr>\n",
       "    <tr>\n",
       "      <th>6</th>\n",
       "      <td>광역시도</td>\n",
       "      <td>대구광역시/경상북도</td>\n",
       "      <td>7.0</td>\n",
       "      <td>6.0</td>\n",
       "      <td>7.0</td>\n",
       "      <td>8.0</td>\n",
       "      <td>11.0</td>\n",
       "      <td>6.0</td>\n",
       "      <td>6.0</td>\n",
       "      <td>7.0</td>\n",
       "      <td>8.0</td>\n",
       "      <td>13.0</td>\n",
       "      <td>39.0</td>\n",
       "      <td>40.0</td>\n",
       "      <td>79.0</td>\n",
       "    </tr>\n",
       "    <tr>\n",
       "      <th>7</th>\n",
       "      <td>광역시도</td>\n",
       "      <td>부산광역시/울산광역시/경상남도</td>\n",
       "      <td>11.0</td>\n",
       "      <td>10.0</td>\n",
       "      <td>12.0</td>\n",
       "      <td>13.0</td>\n",
       "      <td>16.0</td>\n",
       "      <td>9.0</td>\n",
       "      <td>9.0</td>\n",
       "      <td>11.0</td>\n",
       "      <td>13.0</td>\n",
       "      <td>19.0</td>\n",
       "      <td>62.0</td>\n",
       "      <td>61.0</td>\n",
       "      <td>123.0</td>\n",
       "    </tr>\n",
       "    <tr>\n",
       "      <th>8</th>\n",
       "      <td>광역시도</td>\n",
       "      <td>강원도/제주특별자치도</td>\n",
       "      <td>3.0</td>\n",
       "      <td>2.0</td>\n",
       "      <td>3.0</td>\n",
       "      <td>4.0</td>\n",
       "      <td>5.0</td>\n",
       "      <td>2.0</td>\n",
       "      <td>2.0</td>\n",
       "      <td>3.0</td>\n",
       "      <td>3.0</td>\n",
       "      <td>6.0</td>\n",
       "      <td>17.0</td>\n",
       "      <td>16.0</td>\n",
       "      <td>33.0</td>\n",
       "    </tr>\n",
       "  </tbody>\n",
       "</table>\n",
       "</div>"
      ],
      "text/plain": [
       "     구분                     광역시도  남 19-29세  남 30대  남 40대  남 50대  남 60세 이상  \\\n",
       "0  광역시도                    서울특별시      14.0   14.0   14.0   14.0      18.0   \n",
       "3  광역시도                경기도/인천광역시      23.0   22.0   26.0   25.0      26.0   \n",
       "4  광역시도  대전광역시/세종특별자치시/충청남도/충청북도       8.0    7.0    8.0    9.0      11.0   \n",
       "5  광역시도          광주광역시/전라남도/전라북도       7.0    6.0    8.0    8.0      11.0   \n",
       "6  광역시도               대구광역시/경상북도       7.0    6.0    7.0    8.0      11.0   \n",
       "7  광역시도         부산광역시/울산광역시/경상남도      11.0   10.0   12.0   13.0      16.0   \n",
       "8  광역시도              강원도/제주특별자치도       3.0    2.0    3.0    4.0       5.0   \n",
       "\n",
       "   여 19-29세  여 30대  여 40대  여 50대  여 60세이상   남 합계   여 합계     총계  \n",
       "0      15.0   14.0   15.0   15.0     22.0   74.0   81.0  155.0  \n",
       "3      21.0   21.0   25.0   25.0     30.0  122.0  122.0  244.0  \n",
       "4       7.0    7.0    8.0    8.0     13.0   43.0   43.0   86.0  \n",
       "5       6.0    5.0    7.0    8.0     14.0   40.0   40.0   80.0  \n",
       "6       6.0    6.0    7.0    8.0     13.0   39.0   40.0   79.0  \n",
       "7       9.0    9.0   11.0   13.0     19.0   62.0   61.0  123.0  \n",
       "8       2.0    2.0    3.0    3.0      6.0   17.0   16.0   33.0  "
      ]
     },
     "execution_count": 37,
     "metadata": {},
     "output_type": "execute_result"
    }
   ],
   "source": [
    "after_df"
   ]
  },
  {
   "cell_type": "code",
   "execution_count": null,
   "metadata": {},
   "outputs": [],
   "source": []
  }
 ],
 "metadata": {
  "hide_input": false,
  "kernelspec": {
   "display_name": "Python 3",
   "language": "python",
   "name": "python3"
  },
  "language_info": {
   "codemirror_mode": {
    "name": "ipython",
    "version": 3
   },
   "file_extension": ".py",
   "mimetype": "text/x-python",
   "name": "python",
   "nbconvert_exporter": "python",
   "pygments_lexer": "ipython3",
   "version": "3.7.3"
  },
  "toc": {
   "base_numbering": 1,
   "nav_menu": {},
   "number_sections": true,
   "sideBar": true,
   "skip_h1_title": false,
   "title_cell": "Table of Contents",
   "title_sidebar": "Contents",
   "toc_cell": true,
   "toc_position": {},
   "toc_section_display": true,
   "toc_window_display": false
  },
  "varInspector": {
   "cols": {
    "lenName": 16,
    "lenType": 16,
    "lenVar": 40
   },
   "kernels_config": {
    "python": {
     "delete_cmd_postfix": "",
     "delete_cmd_prefix": "del ",
     "library": "var_list.py",
     "varRefreshCmd": "print(var_dic_list())"
    },
    "r": {
     "delete_cmd_postfix": ") ",
     "delete_cmd_prefix": "rm(",
     "library": "var_list.r",
     "varRefreshCmd": "cat(var_dic_list()) "
    }
   },
   "types_to_exclude": [
    "module",
    "function",
    "builtin_function_or_method",
    "instance",
    "_Feature"
   ],
   "window_display": false
  }
 },
 "nbformat": 4,
 "nbformat_minor": 2
}
